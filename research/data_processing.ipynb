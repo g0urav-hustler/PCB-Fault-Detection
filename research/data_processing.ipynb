{
 "cells": [
  {
   "cell_type": "code",
   "execution_count": 1,
   "metadata": {},
   "outputs": [
    {
     "data": {
      "text/plain": [
       "'/home/gourav/ML/PCB Fault Detection/research'"
      ]
     },
     "execution_count": 1,
     "metadata": {},
     "output_type": "execute_result"
    }
   ],
   "source": [
    "%pwd"
   ]
  },
  {
   "cell_type": "code",
   "execution_count": 2,
   "metadata": {},
   "outputs": [],
   "source": [
    "import os\n",
    "os.chdir(\"../\")"
   ]
  },
  {
   "cell_type": "code",
   "execution_count": 3,
   "metadata": {},
   "outputs": [
    {
     "data": {
      "text/plain": [
       "'/home/gourav/ML/PCB Fault Detection'"
      ]
     },
     "execution_count": 3,
     "metadata": {},
     "output_type": "execute_result"
    }
   ],
   "source": [
    "%pwd"
   ]
  },
  {
   "cell_type": "code",
   "execution_count": 6,
   "metadata": {},
   "outputs": [],
   "source": [
    "from dataclasses import dataclass\n",
    "from pathlib import Path\n",
    "\n",
    "@dataclass(frozen=True)\n",
    "class DataProcessingConfig:\n",
    "    source_dir: Path\n",
    "    raw_data_dir: Path\n",
    "    processed_data_dir: Path\n",
    "    split_data_dir: Path"
   ]
  },
  {
   "cell_type": "code",
   "execution_count": 7,
   "metadata": {},
   "outputs": [],
   "source": [
    "# importing constants and utils\n",
    "from src.YOLO_V8.constants import *\n",
    "from src.YOLO_V8.utils.common import read_yaml, create_directories"
   ]
  },
  {
   "cell_type": "code",
   "execution_count": 8,
   "metadata": {},
   "outputs": [],
   "source": [
    "class ConfigurationManager:\n",
    "    def __init__(\n",
    "        self,\n",
    "        config_filepath = CONFIG_FILE_PATH,\n",
    "        params_filepath = PARAMS_FILE_PATH):\n",
    "\n",
    "        self.config = read_yaml(config_filepath)\n",
    "        self.params = read_yaml(params_filepath)\n",
    "\n",
    "    def get_data_process_config(self) -> DataProcessingConfig:\n",
    "        config = self.config.data_processing\n",
    "        params = self.params\n",
    "\n",
    "        data_processing_config = DataProcessingConfig(\n",
    "            source_dir= config.source_dir,\n",
    "            raw_data_dir= config.raw_data_dir,\n",
    "            processed_data_dir= config.processed_data_dir,\n",
    "            split_data_dir = config.split_data_dir,\n",
    "            image_size= params.image_size\n",
    "        )\n",
    "\n",
    "        return data_processing_config"
   ]
  },
  {
   "cell_type": "code",
   "execution_count": 10,
   "metadata": {},
   "outputs": [
    {
     "ename": "ModuleNotFoundError",
     "evalue": "No module named 'pybboxes'",
     "output_type": "error",
     "traceback": [
      "\u001b[0;31m---------------------------------------------------------------------------\u001b[0m",
      "\u001b[0;31mModuleNotFoundError\u001b[0m                       Traceback (most recent call last)",
      "Cell \u001b[0;32mIn[10], line 1\u001b[0m\n\u001b[0;32m----> 1\u001b[0m \u001b[39mimport\u001b[39;00m \u001b[39mpybboxes\u001b[39;00m \u001b[39mas\u001b[39;00m \u001b[39mpbx\u001b[39;00m\n",
      "\u001b[0;31mModuleNotFoundError\u001b[0m: No module named 'pybboxes'"
     ]
    }
   ],
   "source": [
    "import pybboxes as pbx"
   ]
  },
  {
   "cell_type": "code",
   "execution_count": 9,
   "metadata": {},
   "outputs": [
    {
     "ename": "ModuleNotFoundError",
     "evalue": "No module named 'pybboxes'",
     "output_type": "error",
     "traceback": [
      "\u001b[0;31m---------------------------------------------------------------------------\u001b[0m",
      "\u001b[0;31mModuleNotFoundError\u001b[0m                       Traceback (most recent call last)",
      "Cell \u001b[0;32mIn[9], line 3\u001b[0m\n\u001b[1;32m      1\u001b[0m \u001b[39mimport\u001b[39;00m \u001b[39mos\u001b[39;00m\n\u001b[1;32m      2\u001b[0m \u001b[39mimport\u001b[39;00m \u001b[39mshutil\u001b[39;00m\n\u001b[0;32m----> 3\u001b[0m \u001b[39mimport\u001b[39;00m \u001b[39mpybboxes\u001b[39;00m \u001b[39mas\u001b[39;00m \u001b[39mpbx\u001b[39;00m\n\u001b[1;32m      4\u001b[0m \u001b[39mfrom\u001b[39;00m \u001b[39msrc\u001b[39;00m\u001b[39m.\u001b[39;00m\u001b[39mYOLO_V8\u001b[39;00m \u001b[39mimport\u001b[39;00m logger\n\u001b[1;32m      5\u001b[0m \u001b[39mfrom\u001b[39;00m \u001b[39msrc\u001b[39;00m\u001b[39m.\u001b[39;00m\u001b[39mYOLO_V8\u001b[39;00m\u001b[39m.\u001b[39;00m\u001b[39mutils\u001b[39;00m\u001b[39m.\u001b[39;00m\u001b[39mcommon\u001b[39;00m \u001b[39mimport\u001b[39;00m get_size\n",
      "\u001b[0;31mModuleNotFoundError\u001b[0m: No module named 'pybboxes'"
     ]
    }
   ],
   "source": [
    "import os\n",
    "import shutil\n",
    "import pybboxes as pbx\n",
    "from src.YOLO_V8 import logger\n",
    "from src.YOLO_V8.utils.common import get_size"
   ]
  },
  {
   "cell_type": "code",
   "execution_count": 12,
   "metadata": {},
   "outputs": [],
   "source": [
    "def join_path(root_path, join_file):\n",
    "    return os.path.join(root_path, join_file)"
   ]
  },
  {
   "cell_type": "code",
   "execution_count": 29,
   "metadata": {},
   "outputs": [],
   "source": [
    "class DataProcessing:\n",
    "    def __init__(self, config: DataProcessingConfig):\n",
    "        self.config = config\n",
    "        self.image_width = int(self.config.image_size.split(\",\")[0])\n",
    "        self.image_height = int(self.config.image_size.split(\",\")[1])\n",
    "    \n",
    "    def get_raw_data(self):\n",
    "        source_dir = self.config.source_dir\n",
    "        target_dir = self.config.raw_data_dir\n",
    "        create_directories([target_dir])\n",
    "\n",
    "        for groups in os.listdir(source_dir):\n",
    "            groups_path = os.path.join(source_dir, groups)\n",
    "            \n",
    "            for folder in os.listdir(groups_path):\n",
    "\n",
    "                files_source_dir = join_path(groups_path,folder)\n",
    "\n",
    "                files_target_dir = join_path(target_dir, folder)\n",
    "\n",
    "                create_directories([files_target_dir])\n",
    "\n",
    "                files = os.listdir(files_source_dir)\n",
    "\n",
    "                print(f\"Start Getting Raw {folder} --->   \")\n",
    "                self.copy_files(files, files_source_dir, files_target_dir, file_extension = None)\n",
    "\n",
    "                \n",
    "                        \n",
    "\n",
    "    \n",
    "    def get_proper_coordinate_line(self, line):\n",
    "        coordinates = line.split(\" \")\n",
    "        box_class = coordinates[-1].split(\"\\n\")[0]\n",
    "\n",
    "        coordinates = list(map(int,coordinates[:-1]))\n",
    "\n",
    "        W = self.image_width\n",
    "        H = self.image_height\n",
    "\n",
    "        converted_coordinates = pbx.convert_bbox(coordinates, from_type=\"voc\", to_type=\"yolo\",\n",
    "                                                image_size=(W,H))\n",
    "        converted_coordinates = list(map(str,converted_coordinates))\n",
    "\n",
    "        converted_coordinates.insert(0,box_class)\n",
    "        result_coordinate_line = \" \".join(converted_coordinates) + \"\\n\"\n",
    "        \n",
    "        return result_coordinate_line\n",
    "    \n",
    "    def get_processed_labels(self, labels_source_dir, labels_target_dir):\n",
    "\n",
    "        labels_file_count = 0\n",
    "        for labels_file in os.listdir(labels_source_dir):\n",
    "            labels_source_file_path = join_path(labels_source_dir, labels_file)\n",
    "            labels_target_file_path = join_path(labels_target_dir, labels_file)\n",
    "\n",
    "            if not os.path.isdir(labels_target_file_path) or get_size(labels_source_file_path) != get_size(labels_target_file_path):\n",
    "                label_source_file = open(labels_source_file_path, \"r\")\n",
    "                label_target_file = open(labels_target_file_path, \"w\")\n",
    "                save_lines = []\n",
    "                for lines in label_source_file.readlines():\n",
    "                    processed_line = self.get_proper_coordinate_line(lines)\n",
    "                    save_lines.append(processed_line)\n",
    "                \n",
    "                label_target_file.writelines(save_lines)\n",
    "                label_source_file.close()\n",
    "                label_target_file.close()\n",
    "\n",
    "                labels_file_count = labels_file_count + 1\n",
    "        \n",
    "        print(f\"{labels_file_count} labels files created from {labels_source_dir} to {labels_target_dir}.\")\n",
    "\n",
    "    \n",
    "    def processed_data(self):\n",
    "        source_dir = self.config.raw_data_dir \n",
    "        target_dir = self.config.processed_data_dir \n",
    "\n",
    "        create_directories([target_dir])\n",
    "\n",
    "        for folder in os.listdir(source_dir):\n",
    "\n",
    "            if folder == \"images\":\n",
    "                image_source_dir = join_path(source_dir, folder)\n",
    "                image_target_dir = join_path(target_dir, folder)\n",
    "                \n",
    "                create_directories([image_target_dir])\n",
    "\n",
    "                image_files = os.listdir(image_source_dir)\n",
    "\n",
    "                print(f\"Start Getting Processed {folder} -----> \")\n",
    "\n",
    "                self.copy_files(image_files, image_source_dir, image_target_dir, file_extension= None)\n",
    "\n",
    "    \n",
    "\n",
    "                \n",
    "\n",
    "            if folder == \"labels\":\n",
    "                labels_source_dir = join_path(source_dir, folder)\n",
    "                labels_target_dir = join_path(target_dir, folder)\n",
    "\n",
    "                create_directories([labels_target_dir])\n",
    "\n",
    "                print(f\"Start Getting Processed {folder} -----> \")\n",
    "                \n",
    "                self.get_processed_labels(labels_source_dir, labels_target_dir)\n",
    "\n",
    "\n",
    "        \n",
    "    def get_file_names(self, directory):\n",
    "        file_name_list = []\n",
    "        for files in os.listdir(directory):\n",
    "            file_name = files.split(\".\")[0]\n",
    "            file_name_list.append(file_name)\n",
    "    \n",
    "        return file_name_list\n",
    "    \n",
    "    def copy_files(self, files_names : list, source_dir, target_dir, file_extension):\n",
    "    \n",
    "        file_count = 0\n",
    "        for files in files_names:\n",
    "            \n",
    "            if file_extension:\n",
    "                files = files + file_extension\n",
    "\n",
    "            file_source_path = join_path(source_dir, files)\n",
    "            file_target_path = join_path(target_dir, files)\n",
    "\n",
    "            if not os.path.isfile(file_target_path):\n",
    "                shutil.copy(file_source_path, file_target_path)\n",
    "                file_count = file_count +1\n",
    "\n",
    "        print(f\"{file_count} Files copied from {source_dir} to {target_dir}.\")\n",
    "    \n",
    "    def split_data(self):\n",
    "        source_dir = self.config.processed_data_dir \n",
    "        target_dir = self.config.split_data\n",
    "        \n",
    "        files_names = self.get_file_names(join_path(source_dir, \"images\"))\n",
    "\n",
    "        random.shuffle(files_names)\n",
    "\n",
    "        train_dir = join_path(target_dir, \"train_data\")\n",
    "        val_dir = join_path(target_dir, \"val_data\")\n",
    "        \n",
    "        create_directories([target_dir,train_dir, val_dir])\n",
    "        train_size = int((len(files_names) * 0.8))\n",
    "        val_size = int(len(files_names) * 0.2)\n",
    "\n",
    "        print(f\"Traning files = {train_size} and Validation files = {val_size}\")\n",
    "\n",
    "        for folders in os.listdir(source_dir):\n",
    "            \n",
    "            if folders == \"images\":\n",
    "                file_extension = \".jpg\"\n",
    "            if folders == \"labels\":\n",
    "                file_extension = \".txt\"\n",
    "            \n",
    "            files_source_dir = join_path(source_dir, folders)\n",
    "            files_train_dir = join_path(train_dir, folders)\n",
    "            files_val_dir = join_path(val_dir, folders)\n",
    "\n",
    "            create_directories([files_train_dir, files_val_dir])\n",
    "\n",
    "            print(f\"Splitting {folders}\")\n",
    "\n",
    "\n",
    "            print(f\"Creating training files ----\")\n",
    "            self.copy_files(files_names[:train_size], files_source_dir, files_train_dir, file_extension)\n",
    "\n",
    "            print(f\"Creating validation files ------\")\n",
    "            self.copy_files(files_names[train_size:], files_source_dir, files_val_dir, file_extension)\n",
    "\n",
    "\n",
    "\n"
   ]
  },
  {
   "cell_type": "code",
   "execution_count": 31,
   "metadata": {},
   "outputs": [],
   "source": [
    "try:\n",
    "    config = ConfigurationManager()\n",
    "    data_processing_config = config.get_data_process_config()\n",
    "    data_processing = DataProcessing(data_processing_config)\n",
    "    data_processing.get_raw_data()\n",
    "    data_processing.processed_data()\n",
    "    data_processing.split_data()\n",
    "\n",
    "except Exception as e:\n",
    "    print(e)\n"
   ]
  },
  {
   "cell_type": "code",
   "execution_count": null,
   "metadata": {},
   "outputs": [],
   "source": [
    "# for files in os.listdir(files_folder):\n",
    "                #     files_source_path = join_path(files_folder, files)\n",
    "                #     files_target_path = join_path(target_folder, files)\n",
    "                #     if not os.path.isfile(files_target_path):\n",
    "                #         shutil.copy(files_source_path, files_target_path)\n",
    "        \n",
    "        # images = len(os.listdir(join_path(target_dir,\"images\")))\n",
    "        # labels = len(os.listdir(join_path(target_dir,\"labels\")))\n",
    "        # print(f\"Raw data has been collected.\")\n",
    "        # print(f\"Total Images = {images}, Total Labels File= {labels}\")\n",
    "        # logger.info(f\"Raw data has been collected.\")\n",
    "        # logger.info(f\"Total Images = {images}, Total Labels File= {labels}\")"
   ]
  }
 ],
 "metadata": {
  "kernelspec": {
   "display_name": "pfd_env",
   "language": "python",
   "name": "python3"
  },
  "language_info": {
   "codemirror_mode": {
    "name": "ipython",
    "version": 3
   },
   "file_extension": ".py",
   "mimetype": "text/x-python",
   "name": "python",
   "nbconvert_exporter": "python",
   "pygments_lexer": "ipython3",
   "version": "3.8.10"
  },
  "orig_nbformat": 4
 },
 "nbformat": 4,
 "nbformat_minor": 2
}

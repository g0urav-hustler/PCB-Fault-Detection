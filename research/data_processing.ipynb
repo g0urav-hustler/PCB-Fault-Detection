{
 "cells": [
  {
   "cell_type": "code",
   "execution_count": 1,
   "metadata": {},
   "outputs": [
    {
     "data": {
      "text/plain": [
       "'/home/gourav/ML/PCB F D temp/research'"
      ]
     },
     "execution_count": 1,
     "metadata": {},
     "output_type": "execute_result"
    }
   ],
   "source": [
    "%pwd"
   ]
  },
  {
   "cell_type": "code",
   "execution_count": 2,
   "metadata": {},
   "outputs": [],
   "source": [
    "import os\n",
    "os.chdir(\"../\")"
   ]
  },
  {
   "cell_type": "code",
   "execution_count": 3,
   "metadata": {},
   "outputs": [
    {
     "data": {
      "text/plain": [
       "'/home/gourav/ML/PCB F D temp'"
      ]
     },
     "execution_count": 3,
     "metadata": {},
     "output_type": "execute_result"
    }
   ],
   "source": [
    "%pwd"
   ]
  },
  {
   "cell_type": "code",
   "execution_count": 4,
   "metadata": {},
   "outputs": [],
   "source": [
    "from dataclasses import dataclass\n",
    "from pathlib import Path\n",
    "\n",
    "@dataclass(frozen=True)\n",
    "class DataProcessingConfig:\n",
    "    source_dir: Path\n",
    "    raw_data_dir: Path\n",
    "    processed_data_dir: Path\n",
    "    split_data_dir: Path"
   ]
  },
  {
   "cell_type": "code",
   "execution_count": 5,
   "metadata": {},
   "outputs": [],
   "source": [
    "# importing constants and utils\n",
    "from src.YOLO_V8.constants import *\n",
    "from src.YOLO_V8.utils.common import read_yaml, create_directories"
   ]
  },
  {
   "cell_type": "code",
   "execution_count": 6,
   "metadata": {},
   "outputs": [],
   "source": [
    "class ConfigurationManager:\n",
    "    def __init__(\n",
    "        self,\n",
    "        config_filepath = CONFIG_FILE_PATH,\n",
    "        params_filepath = PARAMS_FILE_PATH):\n",
    "\n",
    "        self.config = read_yaml(config_filepath)\n",
    "        self.params = read_yaml(params_filepath)\n",
    "\n",
    "    def get_data_process_config(self) -> DataProcessingConfig:\n",
    "        config = self.config.data_processing \n",
    "\n",
    "        data_processing_config = DataProcessingConfig(\n",
    "            source_dir= config.source_dir,\n",
    "            raw_data_dir= config.raw_data_dir,\n",
    "            processed_data_dir= config.processed_data_dir,\n",
    "            split_data_dir = config.split_data_dir\n",
    "        )\n",
    "\n",
    "        return data_processing_config"
   ]
  },
  {
   "cell_type": "code",
   "execution_count": 7,
   "metadata": {},
   "outputs": [],
   "source": [
    "import os\n",
    "import shutil\n",
    "from src.YOLO_V8 import logger\n",
    "from src.YOLO_V8.utils.common import get_size"
   ]
  },
  {
   "cell_type": "code",
   "execution_count": null,
   "metadata": {},
   "outputs": [],
   "source": [
    "def path_join(root_path, join_file):\n",
    "    return os.path.join(root_path, join_file)"
   ]
  },
  {
   "cell_type": "code",
   "execution_count": 8,
   "metadata": {},
   "outputs": [],
   "source": [
    "class DataProcessing:\n",
    "    def __init__(self, config: DataProcessingConfig):\n",
    "        self.config = config\n",
    "    \n",
    "    def get_raw_data(self):\n",
    "        target_dir = \"/home/gourav/ML/PCB F D temp/src/YOLO_V8/data/raw/\"\n",
    "        source_dir = \"/home/gourav/ML/PCB F D temp/artifacts/data_ingestion/PCBData\"\n",
    "        for groups in os.listdir(source_dir):\n",
    "            folder_path = os.path.join(source_dir, groups)\n",
    "            for folder in os.listdir(folder_path):\n",
    "\n",
    "                target_folder = path_join(target_dir, folder)\n",
    "\n",
    "                for files in os.listdir(folder):\n",
    "                    files_source_path = os.path.join(folder, files)\n",
    "                    files_target_path = os.path.join(target_folder, files)\n",
    "                    shutil.copy(files_source_path, files_target_path)\n",
    "\n",
    "    def get_processed_images(image_folder, image_target_folder):\n",
    "\n",
    "        for image_file in os.listdir(image_folder):\n",
    "            image_file_path = path_join(image_folder, image_file)\n",
    "            target_image_file_path = path_join(image_target_folder, image_file)\n",
    "            shutil.copy(image_file_path, target_image_file_path)  \n",
    "    \n",
    "    def processed_data():\n",
    "    source_folder = Path(\"/home/gourav/ML/PCB F D temp/src/YOLO_V8/data/raw\")\n",
    "    target_folder = Path(\"/home/gourav/ML/PCB F D temp/src/YOLO_V8/data/processed\")\n",
    "\n",
    "    if not os.path.isdir(target_folder):\n",
    "        os.makedirs(target_folder)\n",
    "\n",
    "    for folder in source_folder:\n",
    "        if folder == \"images\":\n",
    "            image_folder = os.path.join(source_folder, folder)\n",
    "            image_target_folder = os.path.join(target_folder, folder)\n",
    "            get_processed_images(image_folder, image_target_folder)\n",
    "            \n",
    "\n",
    "        if folder == \"labels\":\n",
    "            pass\n",
    "\n",
    "\n",
    "    def get_coordinate_line(line):\n",
    "        number = line.split(\" \")\n",
    "        get_index = number[-1].split(\"\\n\")[0]\n",
    "\n",
    "        number = list(map(float,number[:-1]))\n",
    "        print(number)\n",
    "\n",
    "        x_center, y_center = (number[2] + number[0]) // 2  , (number[3] + number[1]) // 2\n",
    "        box_width, box_height = (number[2] - number[0]) // 2  , (number[3] - number[1]) // 2\n",
    "\n",
    "        bbox = list(map(lambda x: x/640, [x_center, y_center, box_width, box_height]))\n",
    "        print(bbox)\n",
    "        line = list(map(str, bbox))\n",
    "        line.insert(0,get_index)\n",
    "\n",
    "        result_line = \" \".join(line) + \"\\n\"\n",
    "        print(result_line)\n",
    "        return result_line          \n",
    "\n",
    "    def get_processed_labels(labels_folder, labels_target_folder):\n",
    "        for labels_file in os.listdir(labels_folder):\n",
    "            labels_file_path = path_join(labels_folder, labels_file)\n",
    "            target_file_path = path_join(labels_target_folder, labels_file)\n",
    "            f = open(labels_file_path, \"r\")\n",
    "            t = open(target_file_path, \"w\")\n",
    "            temp = []\n",
    "            for lines in f.readlines():\n",
    "                process_line = get_coordinate_line(lines)\n",
    "                temp.append(process_line)\n",
    "            \n",
    "            t.writelines(temp)\n",
    "            f.close()\n",
    "            t.close()"
   ]
  },
  {
   "cell_type": "code",
   "execution_count": 9,
   "metadata": {},
   "outputs": [],
   "source": []
  }
 ],
 "metadata": {
  "kernelspec": {
   "display_name": "pfd_env",
   "language": "python",
   "name": "python3"
  },
  "language_info": {
   "codemirror_mode": {
    "name": "ipython",
    "version": 3
   },
   "file_extension": ".py",
   "mimetype": "text/x-python",
   "name": "python",
   "nbconvert_exporter": "python",
   "pygments_lexer": "ipython3",
   "version": "3.8.10"
  },
  "orig_nbformat": 4
 },
 "nbformat": 4,
 "nbformat_minor": 2
}

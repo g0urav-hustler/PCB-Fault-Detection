{
 "cells": [
  {
   "cell_type": "code",
   "execution_count": 2,
   "metadata": {},
   "outputs": [
    {
     "data": {
      "text/plain": [
       "'/home/gourav/ML/PCB F D temp/research'"
      ]
     },
     "execution_count": 2,
     "metadata": {},
     "output_type": "execute_result"
    }
   ],
   "source": [
    "%pwd"
   ]
  },
  {
   "cell_type": "code",
   "execution_count": 4,
   "metadata": {},
   "outputs": [],
   "source": [
    "import os\n",
    "os.chdir(\"../\")"
   ]
  },
  {
   "cell_type": "code",
   "execution_count": 5,
   "metadata": {},
   "outputs": [
    {
     "data": {
      "text/plain": [
       "'/home/gourav/ML/PCB F D temp'"
      ]
     },
     "execution_count": 5,
     "metadata": {},
     "output_type": "execute_result"
    }
   ],
   "source": [
    "%pwd"
   ]
  },
  {
   "cell_type": "code",
   "execution_count": 6,
   "metadata": {},
   "outputs": [],
   "source": [
    "from dataclasses import dataclass\n",
    "from pathlib import Path\n",
    "\n",
    "@dataclass(frozen=True)\n",
    "class DataProcessingself.config:\n",
    "    source_dir: Path\n",
    "    raw_data_dir: Path\n",
    "    processed_data_dir: Path\n",
    "    split_data_dir: Path"
   ]
  },
  {
   "cell_type": "code",
   "execution_count": 7,
   "metadata": {},
   "outputs": [],
   "source": [
    "# importing constants and utils\n",
    "from src.YOLO_V8.constants import *\n",
    "from src.YOLO_V8.utils.common import read_yaml, create_directories"
   ]
  },
  {
   "cell_type": "code",
   "execution_count": 8,
   "metadata": {},
   "outputs": [],
   "source": [
    "class self.configurationManager:\n",
    "    def __init__(\n",
    "        self,\n",
    "        self.self.self.self.config_filepath = self.config_FILE_PATH,\n",
    "        params_filepath = PARAMS_FILE_PATH):\n",
    "\n",
    "        self.self.config = read_yaml(self.config_filepath)\n",
    "        self.params = read_yaml(params_filepath)\n",
    "\n",
    "    def get_data_process_self.config(self) -> DataProcessingself.config:\n",
    "        self.config = self.self.config.data_processing \n",
    "\n",
    "        data_processing_self.config = DataProcessingself.config(\n",
    "            source_dir= self.config.source_dir,\n",
    "            raw_data_dir= self.config.raw_data_dir,\n",
    "            processed_data_dir= self.config.processed_data_dir,\n",
    "            split_data_dir = self.config.split_data_dir\n",
    "        )\n",
    "\n",
    "        return data_processing_self.config"
   ]
  },
  {
   "cell_type": "code",
   "execution_count": 10,
   "metadata": {},
   "outputs": [
    {
     "ename": "ModuleNotFoundError",
     "evalue": "No module named 'pybboxes'",
     "output_type": "error",
     "traceback": [
      "\u001b[0;31m---------------------------------------------------------------------------\u001b[0m",
      "\u001b[0;31mModuleNotFoundError\u001b[0m                       Traceback (most recent call last)",
      "Cell \u001b[0;32mIn[10], line 1\u001b[0m\n\u001b[0;32m----> 1\u001b[0m \u001b[39mimport\u001b[39;00m \u001b[39mpybboxes\u001b[39;00m \u001b[39mas\u001b[39;00m \u001b[39mpbx\u001b[39;00m\n",
      "\u001b[0;31mModuleNotFoundError\u001b[0m: No module named 'pybboxes'"
     ]
    }
   ],
   "source": [
    "import pybboxes as pbx"
   ]
  },
  {
   "cell_type": "code",
   "execution_count": 9,
   "metadata": {},
   "outputs": [
    {
     "ename": "ModuleNotFoundError",
     "evalue": "No module named 'pybboxes'",
     "output_type": "error",
     "traceback": [
      "\u001b[0;31m---------------------------------------------------------------------------\u001b[0m",
      "\u001b[0;31mModuleNotFoundError\u001b[0m                       Traceback (most recent call last)",
      "Cell \u001b[0;32mIn[9], line 3\u001b[0m\n\u001b[1;32m      1\u001b[0m \u001b[39mimport\u001b[39;00m \u001b[39mos\u001b[39;00m\n\u001b[1;32m      2\u001b[0m \u001b[39mimport\u001b[39;00m \u001b[39mshutil\u001b[39;00m\n\u001b[0;32m----> 3\u001b[0m \u001b[39mimport\u001b[39;00m \u001b[39mpybboxes\u001b[39;00m \u001b[39mas\u001b[39;00m \u001b[39mpbx\u001b[39;00m\n\u001b[1;32m      4\u001b[0m \u001b[39mfrom\u001b[39;00m \u001b[39msrc\u001b[39;00m\u001b[39m.\u001b[39;00m\u001b[39mYOLO_V8\u001b[39;00m \u001b[39mimport\u001b[39;00m logger\n\u001b[1;32m      5\u001b[0m \u001b[39mfrom\u001b[39;00m \u001b[39msrc\u001b[39;00m\u001b[39m.\u001b[39;00m\u001b[39mYOLO_V8\u001b[39;00m\u001b[39m.\u001b[39;00m\u001b[39mutils\u001b[39;00m\u001b[39m.\u001b[39;00m\u001b[39mcommon\u001b[39;00m \u001b[39mimport\u001b[39;00m get_size\n",
      "\u001b[0;31mModuleNotFoundError\u001b[0m: No module named 'pybboxes'"
     ]
    }
   ],
   "source": [
    "import os\n",
    "import shutil\n",
    "import pybboxes as pbx\n",
    "from src.YOLO_V8 import logger\n",
    "from src.YOLO_V8.utils.common import get_size"
   ]
  },
  {
   "cell_type": "code",
   "execution_count": 12,
   "metadata": {},
   "outputs": [],
   "source": [
    "def path_join(root_path, join_file):\n",
    "    return os.path.join(root_path, join_file)"
   ]
  },
  {
   "cell_type": "code",
   "execution_count": 29,
   "metadata": {},
   "outputs": [],
   "source": [
    "class DataProcessing:\n",
    "    def __init__(self, config: DataProcessingself.config):\n",
    "        self.self.config = config\n",
    "        \n",
    "    \n",
    "    \n",
    "    def get_raw_data(self):\n",
    "        target_dir = self.config.raw_data_dir\n",
    "        source_dir = self.config.source_dir\n",
    "\n",
    "        if not os.path.isdir(target_dir):\n",
    "            os.makedirs(target_dir)\n",
    "        for groups in os.listdir(source_dir):\n",
    "            folder_path = os.path.join(source_dir, groups)\n",
    "            for folder in os.listdir(folder_path):\n",
    "                target_folder = path_join(target_dir, folder)\n",
    "\n",
    "                if not os.path.isdir(target_folder):\n",
    "                    os.makedirs(target_folder)\n",
    "\n",
    "                for files in os.listdir(folder):\n",
    "                    files_source_path = os.path.join(folder, files)\n",
    "                    files_target_path = os.path.join(target_folder, files)\n",
    "                    shutil.copy(files_source_path, files_target_path)\n",
    "\n",
    "    def get_processed_images(self, image_folder, image_target_folder):\n",
    "\n",
    "        for image_file in os.listdir(image_folder):\n",
    "            image_file_path = path_join(image_folder, image_file)\n",
    "            target_image_file_path = path_join(image_target_folder, image_file)\n",
    "            shutil.copy(image_file_path, target_image_file_path)  \n",
    "    \n",
    "    def get_coordinate_line(self, line):\n",
    "        number = line.split(\" \")\n",
    "        get_index = number[-1].split(\"\\n\")[0]\n",
    "\n",
    "        number = list(map(int,number[:-1]))\n",
    "\n",
    "        # x_center, y_center = (number[2] + number[0]) // 2  , (number[3] + number[1]) // 2\n",
    "        # box_width, box_height = (number[2] - number[0]) // 2  , (number[3] - number[1]) // 2\n",
    "\n",
    "\n",
    "        # bbox = list(map(lambda x: x/640, [x_center, y_center, box_width, box_height]))\n",
    "        W,H = 640,640\n",
    "\n",
    "\n",
    "        converted_line = pbx.convert_bbox(number, from_type=\"voc\", to_type=\"yolo\", image_size=(W,H))\n",
    "        converted_line = list(map(str,converted_line))\n",
    "\n",
    "        converted_line.insert(0,get_index)\n",
    "        \n",
    "\n",
    "        result_line = \" \".join(converted_line) + \"\\n\"\n",
    "        \n",
    "        return result_line\n",
    "    \n",
    "    def get_processed_labels(self, labels_folder, labels_target_folder):\n",
    "        for labels_file in os.listdir(labels_folder):\n",
    "            labels_file_path = path_join(labels_folder, labels_file)\n",
    "            target_file_path = path_join(labels_target_folder, labels_file)\n",
    "            f = open(labels_file_path, \"r\")\n",
    "            t = open(target_file_path, \"w\")\n",
    "            temp = []\n",
    "            for lines in f.readlines():\n",
    "                processed_line = self.get_coordinate_line(lines)\n",
    "                temp.append(processed_line)\n",
    "            \n",
    "            t.writelines(temp)\n",
    "            f.close()\n",
    "            t.close()\n",
    "\n",
    "    \n",
    "    def processed_data(self):\n",
    "        source_folder = self.config.raw_data-dir \n",
    "        target_folder = self.config.processed_data_dir \n",
    "\n",
    "        if not os.path.isdir(target_folder):\n",
    "            os.makedirs(target_folder)\n",
    "\n",
    "        for folder in os.listdir(source_folder):\n",
    "\n",
    "            if folder == \"images\":\n",
    "                image_folder = os.path.join(source_folder, folder)\n",
    "                image_target_folder = os.path.join(target_folder, folder)\n",
    "                if not os.path.isdir(image_target_folder):\n",
    "                    os.makedirs(image_target_folder)\n",
    "                self.get_processed_images(image_folder, image_target_folder)\n",
    "                \n",
    "\n",
    "            if folder == \"labels\":\n",
    "                labels_folder = os.path.join(source_folder, folder)\n",
    "                labels_target_folder = os.path.join(target_folder, folder)\n",
    "\n",
    "                if not os.path.isdir(labels_target_folder):\n",
    "                    os.makedirs(labels_target_folder)\n",
    "                \n",
    "                self.get_processed_labels(labels_folder, labels_target_folder)"
   ]
  },
  {
   "cell_type": "code",
   "execution_count": 30,
   "metadata": {},
   "outputs": [
    {
     "name": "stdout",
     "output_type": "stream",
     "text": [
      "[2023-07-04 21:37:28,496: INFO: common: yaml file: config/config.yaml loaded successfully]\n",
      "[2023-07-04 21:37:28,500: INFO: common: yaml file: params.yaml loaded successfully]\n",
      "DataProcessingConfig(source_dir='artifacts/data_ingestion/PCBData', raw_data_dir='src/YOLO_V8/data/raw', processed_data_dir='src/YOLO_V8/data/processed', split_data_dir='src/YOLO_V8/data/processed')\n"
     ]
    }
   ],
   "source": [
    "self.config = self.configurationManager()\n",
    "data_processing_self.config = self.config.get_data_process_self.config()\n",
    "print(data_processing_self.config)"
   ]
  },
  {
   "cell_type": "code",
   "execution_count": 31,
   "metadata": {},
   "outputs": [],
   "source": [
    "data_processing = DataProcessing(data_processing_self.config)\n"
   ]
  },
  {
   "cell_type": "code",
   "execution_count": 32,
   "metadata": {},
   "outputs": [],
   "source": [
    "data_processing.processed_data()"
   ]
  },
  {
   "cell_type": "code",
   "execution_count": 33,
   "metadata": {},
   "outputs": [],
   "source": [
    "import os"
   ]
  },
  {
   "cell_type": "code",
   "execution_count": 35,
   "metadata": {},
   "outputs": [
    {
     "name": "stdout",
     "output_type": "stream",
     "text": [
      "1500\n"
     ]
    }
   ],
   "source": [
    "p = \"/home/gourav/ML/PCB F D temp/src/YOLO_V8/data/processed/labels\"\n",
    "print(len(os.listdir(p)))"
   ]
  },
  {
   "cell_type": "code",
   "execution_count": 1,
   "metadata": {},
   "outputs": [
    {
     "ename": "ModuleNotFoundError",
     "evalue": "No module named 'pybboxes'",
     "output_type": "error",
     "traceback": [
      "\u001b[0;31m---------------------------------------------------------------------------\u001b[0m",
      "\u001b[0;31mModuleNotFoundError\u001b[0m                       Traceback (most recent call last)",
      "Cell \u001b[0;32mIn[1], line 1\u001b[0m\n\u001b[0;32m----> 1\u001b[0m \u001b[39mimport\u001b[39;00m \u001b[39mpybboxes\u001b[39;00m \u001b[39mas\u001b[39;00m \u001b[39mpbx\u001b[39;00m\n\u001b[1;32m      3\u001b[0m yolo_normalized \u001b[39m=\u001b[39m (\u001b[39m0.048765432089567184\u001b[39m, \u001b[39m0.6583333611488342\u001b[39m, \u001b[39m0.09753086417913437\u001b[39m, \u001b[39m0.29814815521240234\u001b[39m) \n\u001b[1;32m      5\u001b[0m H, W \u001b[39m=\u001b[39m \u001b[39m640\u001b[39m,\u001b[39m640\u001b[39m\n",
      "\u001b[0;31mModuleNotFoundError\u001b[0m: No module named 'pybboxes'"
     ]
    }
   ],
   "source": [
    "import pybboxes as pbx\n",
    "\n",
    "yolo_normalized = (0.048765432089567184, 0.6583333611488342, 0.09753086417913437, 0.29814815521240234) \n",
    "\n",
    "H, W = 640,640\n",
    "\n",
    "box_voc = pbx.convert_bbox(yolo_normalized, from_type=\"yolo\", to_type=\"voc\", image_size=(W,H))\n"
   ]
  },
  {
   "cell_type": "code",
   "execution_count": 2,
   "metadata": {},
   "outputs": [
    {
     "name": "stdout",
     "output_type": "stream",
     "text": [
      "Package            Version\n",
      "------------------ -------\n",
      "asttokens          2.2.1  \n",
      "backcall           0.2.0  \n",
      "comm               0.1.3  \n",
      "debugpy            1.6.7  \n",
      "decorator          5.1.1  \n",
      "ensure             1.0.3  \n",
      "executing          1.2.0  \n",
      "importlib-metadata 6.7.0  \n",
      "ipykernel          6.23.3 \n",
      "ipython            8.12.2 \n",
      "jedi               0.18.2 \n",
      "joblib             1.3.0  \n",
      "jupyter-client     8.3.0  \n",
      "jupyter-core       5.3.1  \n",
      "matplotlib-inline  0.1.6  \n",
      "nest-asyncio       1.5.6  \n",
      "numpy              1.24.4 \n",
      "packaging          23.1   \n",
      "parso              0.8.3  \n",
      "pexpect            4.8.0  \n",
      "pickleshare        0.7.5  \n",
      "pip                20.0.2 \n",
      "pkg-resources      0.0.0  \n",
      "platformdirs       3.8.0  \n",
      "prompt-toolkit     3.0.38 \n",
      "psutil             5.9.5  \n",
      "ptyprocess         0.7.0  \n",
      "pure-eval          0.2.2  \n",
      "pybboxes           0.1.6  \n",
      "Pygments           2.15.1 \n",
      "python-box         7.0.1  \n",
      "python-dateutil    2.8.2  \n",
      "PyYAML             6.0    \n",
      "pyzmq              25.1.0 \n",
      "setuptools         44.0.0 \n",
      "six                1.16.0 \n",
      "stack-data         0.6.2  \n",
      "tornado            6.3.2  \n",
      "traitlets          5.9.0  \n",
      "typing-extensions  4.7.0  \n",
      "wcwidth            0.2.6  \n",
      "zipp               3.15.0 \n"
     ]
    }
   ],
   "source": [
    "!pip list"
   ]
  },
  {
   "cell_type": "code",
   "execution_count": null,
   "metadata": {},
   "outputs": [],
   "source": []
  }
 ],
 "metadata": {
  "kernelspec": {
   "display_name": "pfd_env",
   "language": "python",
   "name": "python3"
  },
  "language_info": {
   "codemirror_mode": {
    "name": "ipython",
    "version": 3
   },
   "file_extension": ".py",
   "mimetype": "text/x-python",
   "name": "python",
   "nbconvert_exporter": "python",
   "pygments_lexer": "ipython3",
   "version": "3.8.10"
  },
  "orig_nbformat": 4
 },
 "nbformat": 4,
 "nbformat_minor": 2
}

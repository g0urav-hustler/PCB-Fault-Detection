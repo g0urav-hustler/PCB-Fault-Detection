{
 "cells": [
  {
   "cell_type": "code",
   "execution_count": 1,
   "metadata": {},
   "outputs": [
    {
     "data": {
      "text/plain": [
       "'/home/gourav/ML/PCB Fault Detection/research'"
      ]
     },
     "execution_count": 1,
     "metadata": {},
     "output_type": "execute_result"
    }
   ],
   "source": [
    "%pwd"
   ]
  },
  {
   "cell_type": "code",
   "execution_count": 2,
   "metadata": {},
   "outputs": [],
   "source": [
    "import os\n",
    "os.chdir(\"../\")"
   ]
  },
  {
   "cell_type": "code",
   "execution_count": 3,
   "metadata": {},
   "outputs": [
    {
     "data": {
      "text/plain": [
       "'/home/gourav/ML/PCB Fault Detection'"
      ]
     },
     "execution_count": 3,
     "metadata": {},
     "output_type": "execute_result"
    }
   ],
   "source": [
    "%pwd"
   ]
  },
  {
   "cell_type": "code",
   "execution_count": 27,
   "metadata": {},
   "outputs": [],
   "source": [
    "from dataclasses import dataclass\n",
    "from pathlib import Path\n",
    "\n",
    "@dataclass(frozen=True)\n",
    "class BaseModelConfig:\n",
    "    base_model_dir: Path\n",
    "    base_model_name :str\n",
    "    "
   ]
  },
  {
   "cell_type": "code",
   "execution_count": 28,
   "metadata": {},
   "outputs": [],
   "source": [
    "# importing constants and utils\n",
    "from src.YOLO_V8.constants import *\n",
    "from src.YOLO_V8.utils.common import read_yaml, create_directories"
   ]
  },
  {
   "cell_type": "code",
   "execution_count": 29,
   "metadata": {},
   "outputs": [],
   "source": [
    "class ConfigurationManager:\n",
    "    def __init__(\n",
    "        self,\n",
    "        config_filepath = CONFIG_FILE_PATH,\n",
    "        params_filepath = PARAMS_FILE_PATH):\n",
    "\n",
    "        self.config = read_yaml(config_filepath)\n",
    "        self.params = read_yaml(params_filepath)\n",
    "    \n",
    "    def get_base_model_config(self) -> BaseModelConfig:\n",
    "        config = self.config.base_model\n",
    "        params = self.params.BASE_MODEL\n",
    "    \n",
    "        create_directories([config.base_model_dir])\n",
    "\n",
    "        base_model_config = BaseModelConfig(\n",
    "            base_model_dir = Path(config.base_model_dir),\n",
    "            base_model_name = params.MODEL_NAME\n",
    "        )\n",
    "\n",
    "        return base_model_config\n",
    "   "
   ]
  },
  {
   "cell_type": "code",
   "execution_count": 30,
   "metadata": {},
   "outputs": [],
   "source": [
    "import shutil\n",
    "from src.YOLO_V8 import logger\n",
    "from ultralytics import YOLO"
   ]
  },
  {
   "cell_type": "code",
   "execution_count": 31,
   "metadata": {},
   "outputs": [],
   "source": [
    "class BaseModel:\n",
    "\n",
    "    def __init__(self, config: BaseModelConfig):\n",
    "\n",
    "        self.base_model_dir = config.base_model_dir\n",
    "        self.base_model_name = config.base_model_name\n",
    "        self.save_model_path = os.path.join(self.base_model_dir,\n",
    "                                            self.base_model_name)\n",
    "\n",
    "    \n",
    "    def download_base_model(self):\n",
    "        if not os.path.isfile(self.save_model_path):\n",
    "            try:\n",
    "                model = YOLO(self.base_model_name)\n",
    "                shutil.move(self.base_model_name, self.save_model_path)\n",
    "                logger.info(f\"{self.base_model_name} download sucessfully at: {self.save_model_path} .\")\n",
    "            except Exception as e:\n",
    "                raise e\n",
    "        else:\n",
    "            logger.info(f\"{self.base_model_name} model already exists at {self.save_model_path} . \")\n",
    "\n"
   ]
  },
  {
   "cell_type": "code",
   "execution_count": 32,
   "metadata": {},
   "outputs": [
    {
     "name": "stdout",
     "output_type": "stream",
     "text": [
      "[2023-07-12 13:54:27,361: INFO: common: yaml file: config/config.yaml loaded successfully]\n",
      "[2023-07-12 13:54:27,365: INFO: common: yaml file: params.yaml loaded successfully]\n",
      "[2023-07-12 13:54:27,374: INFO: common: created directory at: artifacts/base_models]\n"
     ]
    },
    {
     "name": "stderr",
     "output_type": "stream",
     "text": [
      "Downloading https://github.com/ultralytics/assets/releases/download/v0.0.0/yolov8n.pt to yolov8n.pt...\n",
      "100%|██████████| 6.23M/6.23M [00:03<00:00, 2.01MB/s]\n"
     ]
    },
    {
     "name": "stdout",
     "output_type": "stream",
     "text": [
      "[2023-07-12 13:54:34,349: INFO: 418022278: yolov8n.pt download sucessfully at: artifacts/base_models/yolov8n.pt .]\n"
     ]
    }
   ],
   "source": [
    "try:\n",
    "    config = ConfigurationManager()\n",
    "    base_model_config = config.get_base_model_config()\n",
    "    prepare_base_model = BaseModel(base_model_config)\n",
    "    prepare_base_model.download_base_model()\n",
    "except Exception as e:\n",
    "    raise e"
   ]
  },
  {
   "cell_type": "code",
   "execution_count": 34,
   "metadata": {},
   "outputs": [
    {
     "name": "stdout",
     "output_type": "stream",
     "text": [
      "[2023-07-12 13:55:16,247: INFO: common: yaml file: config/config.yaml loaded successfully]\n",
      "[2023-07-12 13:55:16,252: INFO: common: yaml file: params.yaml loaded successfully]\n",
      "[2023-07-12 13:55:16,253: INFO: common: already created directory: artifacts/base_models]\n",
      "[2023-07-12 13:55:16,255: INFO: 418022278: yolov8n.pt model already exists at artifacts/base_models/yolov8n.pt . ]\n"
     ]
    }
   ],
   "source": [
    "try:\n",
    "    config = ConfigurationManager()\n",
    "    base_model_config = config.get_base_model_config()\n",
    "    prepare_base_model = BaseModel(base_model_config)\n",
    "    prepare_base_model.download_base_model()\n",
    "except Exception as e:\n",
    "    raise e"
   ]
  },
  {
   "cell_type": "code",
   "execution_count": null,
   "metadata": {},
   "outputs": [],
   "source": []
  }
 ],
 "metadata": {
  "kernelspec": {
   "display_name": "pfd_env",
   "language": "python",
   "name": "python3"
  },
  "language_info": {
   "codemirror_mode": {
    "name": "ipython",
    "version": 3
   },
   "file_extension": ".py",
   "mimetype": "text/x-python",
   "name": "python",
   "nbconvert_exporter": "python",
   "pygments_lexer": "ipython3",
   "version": "3.8.10"
  },
  "orig_nbformat": 4
 },
 "nbformat": 4,
 "nbformat_minor": 2
}
